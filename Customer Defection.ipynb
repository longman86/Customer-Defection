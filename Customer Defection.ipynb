{
 "cells": [
  {
   "cell_type": "markdown",
   "metadata": {},
   "source": [
    "# CUSTOMER DEFECTION ANALYSIS\n",
    "\n",
    "Customer defection is the loss of clients or customers. \n",
    "Telephone service companies, ISPs, insurance firms, etc, often use customer defection analysis and rates as one of their key business metrics because the cost of retaining an existing customer is far less than acquiring a new one.  \n",
    "Companies usually make a distinction between voluntary defection (churn) and involuntary defection (churn). Voluntary defection occurs due to a decision by the customer to switch to another company or service provider, involuntary defection occurs due to circumstances such as a customer's relocation to a long-term care facility, death, or the relocation to a distant location. \n",
    "\n",
    "In this analysis, involuntary reasons for churn will be excluded from the analytical models. We will instead tend to concentrate on voluntary defection, because it typically occurs due to factors of the company-customer relationship which companies control, such as how billing interactions are handled or how after-sales help is provided. \n",
    "\n",
    "Our team was presented with data from a telco company and tasked to analyse the data and gain insight into customer defection as-well-as develop a model that will predict the possibility of defection by any customer.\n",
    "\n",
    "The DataSet did not come with a data dictionary, but we used general knowledge to interpret the columns and came up with this dictionary for the purpose of this project;\n",
    "\n",
    "\n",
    "`customerID`- Unique identifiers for the customers.\n",
    "\n",
    "`gender`- Female and Male.\n",
    "\n",
    "`SeniorCitizen`- 0 if the customer is not a senior citizen else 1 (int64).\n",
    "\n",
    "`Partner`- Yes if the customer has a partner else No.\n",
    "\n",
    "`Dependents` - Yes if the customer has people that depend on them else No.\n",
    "\n",
    "`tenure` - How long the customers have been with the company in months(int64).\n",
    "\n",
    "`PhoneService` - Yes for customers that have phone service else No.\n",
    "\n",
    "`MultipleLines` - Yes for customers with Multiple lines. \n",
    "                - No for customers with single phone lines.\n",
    "                - No phone services for customers without phone service.\n",
    "\n",
    "`InternetService` - Fiber optic\n",
    "                  - DSL- Digital Subscriber Line\n",
    "                  - No\n",
    "\n",
    "`OnlineSecurity` - Yes for customers with online security\n",
    "                 - No for customers without online security\n",
    "                 - No phone services for customers without phone service.\n",
    "\n",
    "`OnlineBackup` - Yes for customers with online backup\n",
    "               - No for customers without online backup\n",
    "               - No phone services for customers without phone service.\n",
    "\n",
    "`DeviceProtection` - Yes for customers with device protection\n",
    "                   - No for customers without device protection\n",
    "                   - No phone services for customers without phone service.\n",
    "\n",
    "`TechSupport` - Yes for customers with access to tech support\n",
    "              - No for customers without access to tech support\n",
    "              - No phone services for customers without phone service.\n",
    "\n",
    "`StreamingTV` - Yes for customers that have Streaming TV\n",
    "              - No for customers without Streaming TV\n",
    "              - No phone services for customers without phone service.\n",
    "\n",
    "`StreamingMovies` - Yes for customers that stream movies\n",
    "                  - No for customers that don’t stream movies\n",
    "                  - No phone services for customers without phone service.\n",
    "\n",
    "`Contract` - Month-to-month: Customers that renew their contract monthly\n",
    "           - Two year: Customers that renew their contract every two years\n",
    "           - One year: Customers that renew their contract every year\n",
    "`PaperlessBilling` - Yes for customers that handle their billings online\n",
    "                   - No for customers that do not handle their billings online\n",
    "\n",
    "`PaymentMethod` - Electronic check: Customers that handle payment via electronic cheque \n",
    "                - Mailed check: Customer that handle payment by mail\n",
    "                - Bank transfer (automatic):  Customers that pay automatically via bank transfer\n",
    "                - Credit card (automatic): Customers that pay automatically via their credit cards\n",
    "\n",
    "`MonthlyCharges` - The monthly charge for each customer (float64)\n",
    "\n",
    "`TotalCharges` - The total charge for each customer taking into consideration their contract. (float64)\n",
    "\n",
    "`Churn` - Yes for customers that are lost and No for retained customers.\n",
    "        Context:The churn rate also known as the rate of attrition or customer churn is the rate at which customers stop                       doing business with an entity.\n",
    "\n",
    "\n"
   ]
  },
  {
   "cell_type": "code",
   "execution_count": 2,
   "metadata": {},
   "outputs": [],
   "source": [
    "#importing libraries that may be needed during the course of this project\n",
    "\n",
    "import pandas as pd\n",
    "import numpy as np\n",
    "import matplotlib.pyplot as plt\n",
    "import seaborn as sns\n",
    "%matplotlib inline\n",
    "import warnings\n",
    "warnings.filterwarnings(\"ignore\")"
   ]
  },
  {
   "cell_type": "markdown",
   "metadata": {},
   "source": [
    "## Reading in the DataSet"
   ]
  },
  {
   "cell_type": "code",
   "execution_count": 3,
   "metadata": {},
   "outputs": [],
   "source": [
    "cust_data = pd.read_csv('C:\\\\Users\\\\hp\\\\Desktop\\\\DataQuest\\\\My Data Sets\\\\WA_Fn-UseC_-Telco-Customer-Churn.csv')\n"
   ]
  },
  {
   "cell_type": "markdown",
   "metadata": {},
   "source": [
    "## Exploratory Data Analysis"
   ]
  },
  {
   "cell_type": "code",
   "execution_count": 4,
   "metadata": {},
   "outputs": [
    {
     "data": {
      "text/html": [
       "<div>\n",
       "<style scoped>\n",
       "    .dataframe tbody tr th:only-of-type {\n",
       "        vertical-align: middle;\n",
       "    }\n",
       "\n",
       "    .dataframe tbody tr th {\n",
       "        vertical-align: top;\n",
       "    }\n",
       "\n",
       "    .dataframe thead th {\n",
       "        text-align: right;\n",
       "    }\n",
       "</style>\n",
       "<table border=\"1\" class=\"dataframe\">\n",
       "  <thead>\n",
       "    <tr style=\"text-align: right;\">\n",
       "      <th></th>\n",
       "      <th>customerID</th>\n",
       "      <th>gender</th>\n",
       "      <th>SeniorCitizen</th>\n",
       "      <th>Partner</th>\n",
       "      <th>Dependents</th>\n",
       "      <th>tenure</th>\n",
       "      <th>PhoneService</th>\n",
       "      <th>MultipleLines</th>\n",
       "      <th>InternetService</th>\n",
       "      <th>OnlineSecurity</th>\n",
       "      <th>...</th>\n",
       "      <th>DeviceProtection</th>\n",
       "      <th>TechSupport</th>\n",
       "      <th>StreamingTV</th>\n",
       "      <th>StreamingMovies</th>\n",
       "      <th>Contract</th>\n",
       "      <th>PaperlessBilling</th>\n",
       "      <th>PaymentMethod</th>\n",
       "      <th>MonthlyCharges</th>\n",
       "      <th>TotalCharges</th>\n",
       "      <th>Churn</th>\n",
       "    </tr>\n",
       "  </thead>\n",
       "  <tbody>\n",
       "    <tr>\n",
       "      <td>0</td>\n",
       "      <td>7590-VHVEG</td>\n",
       "      <td>Female</td>\n",
       "      <td>0</td>\n",
       "      <td>Yes</td>\n",
       "      <td>No</td>\n",
       "      <td>1</td>\n",
       "      <td>No</td>\n",
       "      <td>No phone service</td>\n",
       "      <td>DSL</td>\n",
       "      <td>No</td>\n",
       "      <td>...</td>\n",
       "      <td>No</td>\n",
       "      <td>No</td>\n",
       "      <td>No</td>\n",
       "      <td>No</td>\n",
       "      <td>Month-to-month</td>\n",
       "      <td>Yes</td>\n",
       "      <td>Electronic check</td>\n",
       "      <td>29.85</td>\n",
       "      <td>29.85</td>\n",
       "      <td>No</td>\n",
       "    </tr>\n",
       "    <tr>\n",
       "      <td>1</td>\n",
       "      <td>5575-GNVDE</td>\n",
       "      <td>Male</td>\n",
       "      <td>0</td>\n",
       "      <td>No</td>\n",
       "      <td>No</td>\n",
       "      <td>34</td>\n",
       "      <td>Yes</td>\n",
       "      <td>No</td>\n",
       "      <td>DSL</td>\n",
       "      <td>Yes</td>\n",
       "      <td>...</td>\n",
       "      <td>Yes</td>\n",
       "      <td>No</td>\n",
       "      <td>No</td>\n",
       "      <td>No</td>\n",
       "      <td>One year</td>\n",
       "      <td>No</td>\n",
       "      <td>Mailed check</td>\n",
       "      <td>56.95</td>\n",
       "      <td>1889.5</td>\n",
       "      <td>No</td>\n",
       "    </tr>\n",
       "    <tr>\n",
       "      <td>2</td>\n",
       "      <td>3668-QPYBK</td>\n",
       "      <td>Male</td>\n",
       "      <td>0</td>\n",
       "      <td>No</td>\n",
       "      <td>No</td>\n",
       "      <td>2</td>\n",
       "      <td>Yes</td>\n",
       "      <td>No</td>\n",
       "      <td>DSL</td>\n",
       "      <td>Yes</td>\n",
       "      <td>...</td>\n",
       "      <td>No</td>\n",
       "      <td>No</td>\n",
       "      <td>No</td>\n",
       "      <td>No</td>\n",
       "      <td>Month-to-month</td>\n",
       "      <td>Yes</td>\n",
       "      <td>Mailed check</td>\n",
       "      <td>53.85</td>\n",
       "      <td>108.15</td>\n",
       "      <td>Yes</td>\n",
       "    </tr>\n",
       "    <tr>\n",
       "      <td>3</td>\n",
       "      <td>7795-CFOCW</td>\n",
       "      <td>Male</td>\n",
       "      <td>0</td>\n",
       "      <td>No</td>\n",
       "      <td>No</td>\n",
       "      <td>45</td>\n",
       "      <td>No</td>\n",
       "      <td>No phone service</td>\n",
       "      <td>DSL</td>\n",
       "      <td>Yes</td>\n",
       "      <td>...</td>\n",
       "      <td>Yes</td>\n",
       "      <td>Yes</td>\n",
       "      <td>No</td>\n",
       "      <td>No</td>\n",
       "      <td>One year</td>\n",
       "      <td>No</td>\n",
       "      <td>Bank transfer (automatic)</td>\n",
       "      <td>42.30</td>\n",
       "      <td>1840.75</td>\n",
       "      <td>No</td>\n",
       "    </tr>\n",
       "    <tr>\n",
       "      <td>4</td>\n",
       "      <td>9237-HQITU</td>\n",
       "      <td>Female</td>\n",
       "      <td>0</td>\n",
       "      <td>No</td>\n",
       "      <td>No</td>\n",
       "      <td>2</td>\n",
       "      <td>Yes</td>\n",
       "      <td>No</td>\n",
       "      <td>Fiber optic</td>\n",
       "      <td>No</td>\n",
       "      <td>...</td>\n",
       "      <td>No</td>\n",
       "      <td>No</td>\n",
       "      <td>No</td>\n",
       "      <td>No</td>\n",
       "      <td>Month-to-month</td>\n",
       "      <td>Yes</td>\n",
       "      <td>Electronic check</td>\n",
       "      <td>70.70</td>\n",
       "      <td>151.65</td>\n",
       "      <td>Yes</td>\n",
       "    </tr>\n",
       "  </tbody>\n",
       "</table>\n",
       "<p>5 rows × 21 columns</p>\n",
       "</div>"
      ],
      "text/plain": [
       "   customerID  gender  SeniorCitizen Partner Dependents  tenure PhoneService  \\\n",
       "0  7590-VHVEG  Female              0     Yes         No       1           No   \n",
       "1  5575-GNVDE    Male              0      No         No      34          Yes   \n",
       "2  3668-QPYBK    Male              0      No         No       2          Yes   \n",
       "3  7795-CFOCW    Male              0      No         No      45           No   \n",
       "4  9237-HQITU  Female              0      No         No       2          Yes   \n",
       "\n",
       "      MultipleLines InternetService OnlineSecurity  ... DeviceProtection  \\\n",
       "0  No phone service             DSL             No  ...               No   \n",
       "1                No             DSL            Yes  ...              Yes   \n",
       "2                No             DSL            Yes  ...               No   \n",
       "3  No phone service             DSL            Yes  ...              Yes   \n",
       "4                No     Fiber optic             No  ...               No   \n",
       "\n",
       "  TechSupport StreamingTV StreamingMovies        Contract PaperlessBilling  \\\n",
       "0          No          No              No  Month-to-month              Yes   \n",
       "1          No          No              No        One year               No   \n",
       "2          No          No              No  Month-to-month              Yes   \n",
       "3         Yes          No              No        One year               No   \n",
       "4          No          No              No  Month-to-month              Yes   \n",
       "\n",
       "               PaymentMethod MonthlyCharges  TotalCharges Churn  \n",
       "0           Electronic check          29.85         29.85    No  \n",
       "1               Mailed check          56.95        1889.5    No  \n",
       "2               Mailed check          53.85        108.15   Yes  \n",
       "3  Bank transfer (automatic)          42.30       1840.75    No  \n",
       "4           Electronic check          70.70        151.65   Yes  \n",
       "\n",
       "[5 rows x 21 columns]"
      ]
     },
     "execution_count": 4,
     "metadata": {},
     "output_type": "execute_result"
    }
   ],
   "source": [
    "cust_data.head()"
   ]
  },
  {
   "cell_type": "code",
   "execution_count": 5,
   "metadata": {},
   "outputs": [
    {
     "data": {
      "text/plain": [
       "(7043, 21)"
      ]
     },
     "execution_count": 5,
     "metadata": {},
     "output_type": "execute_result"
    }
   ],
   "source": [
    "cust_data.shape\n"
   ]
  },
  {
   "cell_type": "markdown",
   "metadata": {},
   "source": [
    "We have 7,043 rows and 21 columns in the dataset."
   ]
  },
  {
   "cell_type": "code",
   "execution_count": 6,
   "metadata": {},
   "outputs": [
    {
     "name": "stdout",
     "output_type": "stream",
     "text": [
      "<class 'pandas.core.frame.DataFrame'>\n",
      "RangeIndex: 7043 entries, 0 to 7042\n",
      "Data columns (total 21 columns):\n",
      "customerID          7043 non-null object\n",
      "gender              7043 non-null object\n",
      "SeniorCitizen       7043 non-null int64\n",
      "Partner             7043 non-null object\n",
      "Dependents          7043 non-null object\n",
      "tenure              7043 non-null int64\n",
      "PhoneService        7043 non-null object\n",
      "MultipleLines       7043 non-null object\n",
      "InternetService     7043 non-null object\n",
      "OnlineSecurity      7043 non-null object\n",
      "OnlineBackup        7043 non-null object\n",
      "DeviceProtection    7043 non-null object\n",
      "TechSupport         7043 non-null object\n",
      "StreamingTV         7043 non-null object\n",
      "StreamingMovies     7043 non-null object\n",
      "Contract            7043 non-null object\n",
      "PaperlessBilling    7043 non-null object\n",
      "PaymentMethod       7043 non-null object\n",
      "MonthlyCharges      7043 non-null float64\n",
      "TotalCharges        7043 non-null object\n",
      "Churn               7043 non-null object\n",
      "dtypes: float64(1), int64(2), object(18)\n",
      "memory usage: 1.1+ MB\n"
     ]
    }
   ],
   "source": [
    "cust_data.info()"
   ]
  },
  {
   "cell_type": "markdown",
   "metadata": {},
   "source": [
    "From the EDA performed on the data set, it appears the dataset is cleaned and does not have any null objects. However, it can be seen that `TotalCharges` column is an object type and we will need to convert it float to enable us perform some analysis on that column."
   ]
  },
  {
   "cell_type": "code",
   "execution_count": 7,
   "metadata": {},
   "outputs": [
    {
     "data": {
      "text/plain": [
       "Index(['customerID', 'gender', 'SeniorCitizen', 'Partner', 'Dependents',\n",
       "       'tenure', 'PhoneService', 'MultipleLines', 'InternetService',\n",
       "       'OnlineSecurity', 'OnlineBackup', 'DeviceProtection', 'TechSupport',\n",
       "       'StreamingTV', 'StreamingMovies', 'Contract', 'PaperlessBilling',\n",
       "       'PaymentMethod', 'MonthlyCharges', 'TotalCharges', 'Churn'],\n",
       "      dtype='object')"
      ]
     },
     "execution_count": 7,
     "metadata": {},
     "output_type": "execute_result"
    }
   ],
   "source": [
    "#Display all the columns names\n",
    "\n",
    "cust_data.columns"
   ]
  },
  {
   "cell_type": "code",
   "execution_count": 8,
   "metadata": {},
   "outputs": [],
   "source": [
    "#converting TotalCharges column to float.\n",
    "\n",
    "cust_data['TotalCharges'] = cust_data['TotalCharges'].replace(' ', 0).astype(float)"
   ]
  },
  {
   "cell_type": "code",
   "execution_count": 9,
   "metadata": {
    "scrolled": true
   },
   "outputs": [
    {
     "data": {
      "text/html": [
       "<div>\n",
       "<style scoped>\n",
       "    .dataframe tbody tr th:only-of-type {\n",
       "        vertical-align: middle;\n",
       "    }\n",
       "\n",
       "    .dataframe tbody tr th {\n",
       "        vertical-align: top;\n",
       "    }\n",
       "\n",
       "    .dataframe thead th {\n",
       "        text-align: right;\n",
       "    }\n",
       "</style>\n",
       "<table border=\"1\" class=\"dataframe\">\n",
       "  <thead>\n",
       "    <tr style=\"text-align: right;\">\n",
       "      <th></th>\n",
       "      <th>SeniorCitizen</th>\n",
       "      <th>tenure</th>\n",
       "      <th>MonthlyCharges</th>\n",
       "      <th>TotalCharges</th>\n",
       "    </tr>\n",
       "  </thead>\n",
       "  <tbody>\n",
       "    <tr>\n",
       "      <td>count</td>\n",
       "      <td>7043.000000</td>\n",
       "      <td>7043.000000</td>\n",
       "      <td>7043.000000</td>\n",
       "      <td>7043.000000</td>\n",
       "    </tr>\n",
       "    <tr>\n",
       "      <td>mean</td>\n",
       "      <td>0.162147</td>\n",
       "      <td>32.371149</td>\n",
       "      <td>64.761692</td>\n",
       "      <td>2279.734304</td>\n",
       "    </tr>\n",
       "    <tr>\n",
       "      <td>std</td>\n",
       "      <td>0.368612</td>\n",
       "      <td>24.559481</td>\n",
       "      <td>30.090047</td>\n",
       "      <td>2266.794470</td>\n",
       "    </tr>\n",
       "    <tr>\n",
       "      <td>min</td>\n",
       "      <td>0.000000</td>\n",
       "      <td>0.000000</td>\n",
       "      <td>18.250000</td>\n",
       "      <td>0.000000</td>\n",
       "    </tr>\n",
       "    <tr>\n",
       "      <td>25%</td>\n",
       "      <td>0.000000</td>\n",
       "      <td>9.000000</td>\n",
       "      <td>35.500000</td>\n",
       "      <td>398.550000</td>\n",
       "    </tr>\n",
       "    <tr>\n",
       "      <td>50%</td>\n",
       "      <td>0.000000</td>\n",
       "      <td>29.000000</td>\n",
       "      <td>70.350000</td>\n",
       "      <td>1394.550000</td>\n",
       "    </tr>\n",
       "    <tr>\n",
       "      <td>75%</td>\n",
       "      <td>0.000000</td>\n",
       "      <td>55.000000</td>\n",
       "      <td>89.850000</td>\n",
       "      <td>3786.600000</td>\n",
       "    </tr>\n",
       "    <tr>\n",
       "      <td>max</td>\n",
       "      <td>1.000000</td>\n",
       "      <td>72.000000</td>\n",
       "      <td>118.750000</td>\n",
       "      <td>8684.800000</td>\n",
       "    </tr>\n",
       "  </tbody>\n",
       "</table>\n",
       "</div>"
      ],
      "text/plain": [
       "       SeniorCitizen       tenure  MonthlyCharges  TotalCharges\n",
       "count    7043.000000  7043.000000     7043.000000   7043.000000\n",
       "mean        0.162147    32.371149       64.761692   2279.734304\n",
       "std         0.368612    24.559481       30.090047   2266.794470\n",
       "min         0.000000     0.000000       18.250000      0.000000\n",
       "25%         0.000000     9.000000       35.500000    398.550000\n",
       "50%         0.000000    29.000000       70.350000   1394.550000\n",
       "75%         0.000000    55.000000       89.850000   3786.600000\n",
       "max         1.000000    72.000000      118.750000   8684.800000"
      ]
     },
     "execution_count": 9,
     "metadata": {},
     "output_type": "execute_result"
    }
   ],
   "source": [
    "#displays the distribution of the numerical data in the dataset.\n",
    "\n",
    "cust_data.describe()"
   ]
  },
  {
   "cell_type": "markdown",
   "metadata": {},
   "source": [
    "A look at the distribution above shows that the highest tenure for any customer in the dataset is 72 months and the lowest is 0, which means there are customers who spent less than a month with the company. It can also be seen that some customers has monthly charges as high as 118.75usd while the minimum monthly charge is 18.25usd. Next, we will be looking at the correlation between these numerical data to see if there's any strong relationship between the columns."
   ]
  },
  {
   "cell_type": "code",
   "execution_count": 10,
   "metadata": {},
   "outputs": [
    {
     "data": {
      "text/html": [
       "<div>\n",
       "<style scoped>\n",
       "    .dataframe tbody tr th:only-of-type {\n",
       "        vertical-align: middle;\n",
       "    }\n",
       "\n",
       "    .dataframe tbody tr th {\n",
       "        vertical-align: top;\n",
       "    }\n",
       "\n",
       "    .dataframe thead th {\n",
       "        text-align: right;\n",
       "    }\n",
       "</style>\n",
       "<table border=\"1\" class=\"dataframe\">\n",
       "  <thead>\n",
       "    <tr style=\"text-align: right;\">\n",
       "      <th></th>\n",
       "      <th>SeniorCitizen</th>\n",
       "      <th>tenure</th>\n",
       "      <th>MonthlyCharges</th>\n",
       "      <th>TotalCharges</th>\n",
       "    </tr>\n",
       "  </thead>\n",
       "  <tbody>\n",
       "    <tr>\n",
       "      <td>SeniorCitizen</td>\n",
       "      <td>1.000000</td>\n",
       "      <td>0.016567</td>\n",
       "      <td>0.220173</td>\n",
       "      <td>0.103006</td>\n",
       "    </tr>\n",
       "    <tr>\n",
       "      <td>tenure</td>\n",
       "      <td>0.016567</td>\n",
       "      <td>1.000000</td>\n",
       "      <td>0.247900</td>\n",
       "      <td>0.826178</td>\n",
       "    </tr>\n",
       "    <tr>\n",
       "      <td>MonthlyCharges</td>\n",
       "      <td>0.220173</td>\n",
       "      <td>0.247900</td>\n",
       "      <td>1.000000</td>\n",
       "      <td>0.651174</td>\n",
       "    </tr>\n",
       "    <tr>\n",
       "      <td>TotalCharges</td>\n",
       "      <td>0.103006</td>\n",
       "      <td>0.826178</td>\n",
       "      <td>0.651174</td>\n",
       "      <td>1.000000</td>\n",
       "    </tr>\n",
       "  </tbody>\n",
       "</table>\n",
       "</div>"
      ],
      "text/plain": [
       "                SeniorCitizen    tenure  MonthlyCharges  TotalCharges\n",
       "SeniorCitizen        1.000000  0.016567        0.220173      0.103006\n",
       "tenure               0.016567  1.000000        0.247900      0.826178\n",
       "MonthlyCharges       0.220173  0.247900        1.000000      0.651174\n",
       "TotalCharges         0.103006  0.826178        0.651174      1.000000"
      ]
     },
     "execution_count": 10,
     "metadata": {},
     "output_type": "execute_result"
    }
   ],
   "source": [
    "#Looking at correlation between the numerical data\n",
    "\n",
    "num_corr = cust_data.corr()\n",
    "num_corr"
   ]
  },
  {
   "cell_type": "code",
   "execution_count": 11,
   "metadata": {},
   "outputs": [
    {
     "data": {
      "text/plain": [
       "<matplotlib.axes._subplots.AxesSubplot at 0x1f5d45ad7c8>"
      ]
     },
     "execution_count": 11,
     "metadata": {},
     "output_type": "execute_result"
    },
    {
     "data": {
      "image/png": "[encoded data removed]",
      "text/plain": [
       "<Figure size 720x576 with 2 Axes>"
      ]
     },
     "metadata": {
      "needs_background": "light"
     },
     "output_type": "display_data"
    }
   ],
   "source": [
    "#Let's visualize the above correlation as follows;\n",
    "\n",
    "plt.figure(figsize=(10, 8))\n",
    "sns.heatmap(cust_data.corr(), annot=True, fmt='.1f')"
   ]
  },
  {
   "cell_type": "markdown",
   "metadata": {},
   "source": [
    "From the correlation heatmap above, the only correlation worthy of comment is that between tenure and TotalCharges, which has a very strong positive correlation, this is expected because the longer a customer stays with the company, the higher the TotalCharges. We will look more closely at the relationship with a scatter diagram below;"
   ]
  },
  {
   "cell_type": "code",
   "execution_count": 12,
   "metadata": {},
   "outputs": [
    {
     "data": {
      "text/plain": [
       "<matplotlib.axes._subplots.AxesSubplot at 0x1f5d6efbd08>"
      ]
     },
     "execution_count": 12,
     "metadata": {},
     "output_type": "execute_result"
    },
    {
     "data": {
      "image/png": "[encoded data removed]",
      "text/plain": [
       "<Figure size 432x288 with 1 Axes>"
      ]
     },
     "metadata": {
      "needs_background": "light"
     },
     "output_type": "display_data"
    }
   ],
   "source": [
    "sns.scatterplot(x='tenure', y='TotalCharges', data=cust_data)"
   ]
  },
  {
   "cell_type": "code",
   "execution_count": 13,
   "metadata": {},
   "outputs": [
    {
     "data": {
      "text/plain": [
       "<matplotlib.axes._subplots.AxesSubplot at 0x1f5d6d26948>"
      ]
     },
     "execution_count": 13,
     "metadata": {},
     "output_type": "execute_result"
    },
    {
     "data": {
      "image/png": "[encoded data removed]",
      "text/plain": [
       "<Figure size 432x288 with 1 Axes>"
      ]
     },
     "metadata": {
      "needs_background": "light"
     },
     "output_type": "display_data"
    }
   ],
   "source": [
    "sns.scatterplot(x='tenure', y='MonthlyCharges', data=cust_data)"
   ]
  },
  {
   "cell_type": "markdown",
   "metadata": {},
   "source": [
    "From the plots above, it does not look like we have any positive correlation between `tenure` and `MonthlyCharges`. However there is a very strong positive correlation between `tenure` and `TotalCharges`. Next, we will be looking at the number of customers that churned."
   ]
  },
  {
   "cell_type": "code",
   "execution_count": 14,
   "metadata": {},
   "outputs": [
    {
     "name": "stdout",
     "output_type": "stream",
     "text": [
      "Total Number of Customers : 7043 \n",
      "\n",
      "Total Retained Customers : 5174 \n",
      "\n",
      "Total Churned Customers : 1869\n"
     ]
    }
   ],
   "source": [
    "#get the number or churned customers\n",
    "\n",
    "cust_retained = cust_data[cust_data['Churn'] == 'No']\n",
    "cust_churned = cust_data[cust_data['Churn'] == 'Yes']\n",
    "\n",
    "num_cust = cust_data.shape[0]\n",
    "num_retained = cust_retained.shape[0]\n",
    "num_churned = cust_churned.shape[0]\n",
    "\n",
    "print('Total Number of Customers', ':', num_cust, '\\n')\n",
    "print('Total Retained Customers', ':', num_retained, '\\n')\n",
    "print('Total Churned Customers', ':', num_churned)"
   ]
  },
  {
   "cell_type": "code",
   "execution_count": 15,
   "metadata": {},
   "outputs": [
    {
     "name": "stdout",
     "output_type": "stream",
     "text": [
      "% of Retained Customers : 73.4630129206304 \n",
      "\n",
      "% of Churned Customers : 26.536987079369588\n"
     ]
    }
   ],
   "source": [
    "#Calculate the percentage of churned and retained customers\n",
    "\n",
    "retained_per = (num_retained/num_cust)*100\n",
    "churned_per = (num_churned/num_cust)*100\n",
    "\n",
    "print('% of Retained Customers', ':', retained_per, '\\n')\n",
    "print('% of Churned Customers', ':', churned_per)"
   ]
  },
  {
   "cell_type": "markdown",
   "metadata": {},
   "source": [
    "5174 customers which represent 73.46% stayed with the company while 1869 customers which represents 26.54% left the company in the period under review.\n",
    "This is very important information as we proceed in this project and most importantly in our prediction model. Because our model will be predicting the likelihood of a customer to be retained by the company, it is important to note that our model must have an accuracy of above 75% to have any meaningful impact because without any model, we already have a 73.46% chance of predicting customers likely to stay just by taking a wild guess.\n",
    "\n",
    "Let's visualize the churn column below;"
   ]
  },
  {
   "cell_type": "code",
   "execution_count": 16,
   "metadata": {},
   "outputs": [
    {
     "data": {
      "text/plain": [
       "<matplotlib.axes._subplots.AxesSubplot at 0x1f5d6daacc8>"
      ]
     },
     "execution_count": 16,
     "metadata": {},
     "output_type": "execute_result"
    },
    {
     "data": {
      "image/png": "[encoded data removed]",
      "text/plain": [
       "<Figure size 432x288 with 1 Axes>"
      ]
     },
     "metadata": {
      "needs_background": "light"
     },
     "output_type": "display_data"
    }
   ],
   "source": [
    "#visualize the Churn column\n",
    "\n",
    "sns.countplot(cust_data['Churn'])"
   ]
  },
  {
   "cell_type": "markdown",
   "metadata": {},
   "source": [
    "Next we will be looking at the churn count by some other columns in the dataset to see which columns has the most impact on the churn rate. First let's look at the relationship between the following columns; `gender`, `SeniorCitizen`, `Partner`, `Dependents` and the churn rate."
   ]
  },
  {
   "cell_type": "code",
   "execution_count": 17,
   "metadata": {},
   "outputs": [
    {
     "data": {
      "text/plain": [
       "<matplotlib.axes._subplots.AxesSubplot at 0x1f5d709a988>"
      ]
     },
     "execution_count": 17,
     "metadata": {},
     "output_type": "execute_result"
    },
    {
     "data": {
      "image/png": "[encoded data removed]",
      "text/plain": [
       "<Figure size 1080x360 with 4 Axes>"
      ]
     },
     "metadata": {
      "needs_background": "light"
     },
     "output_type": "display_data"
    }
   ],
   "source": [
    "fig, ax = plt.subplots(1, 4, sharey='all', figsize=(15,5))\n",
    "sns.countplot(x='gender', hue='Churn', data=cust_data, ax=ax[0])\n",
    "sns.countplot(x='SeniorCitizen', hue='Churn', data=cust_data, ax=ax[1])\n",
    "sns.countplot(x='Partner', hue='Churn', data=cust_data, ax=ax[2])\n",
    "sns.countplot(x='Dependents', hue='Churn', data=cust_data, ax=ax[3])\n"
   ]
  },
  {
   "cell_type": "markdown",
   "metadata": {},
   "source": [
    "We can make the following assumptions from the plot above;\n",
    "\n",
    "- `gender` has no significant role to play in the churn rate of the customer\n",
    "- The `SeniorCitizen` plot shows that despite the low number of customers who are senior citizens, they are still more likely to churn.\n",
    "- `Partner` plot shows that customers with partner are less likely to churn\n",
    "- `Dependents` plot also shows that customers with dependents are less likely to churn than those with no dependents.\n",
    "\n",
    "Next we will look at the next set of categorical data; `PhoneService`, `MultipleLines`, `InternetService`, `OnlineSecurity` and see if they have any visible effect on the churn rate."
   ]
  },
  {
   "cell_type": "code",
   "execution_count": 18,
   "metadata": {},
   "outputs": [
    {
     "data": {
      "text/plain": [
       "<matplotlib.axes._subplots.AxesSubplot at 0x1f5d71a4508>"
      ]
     },
     "execution_count": 18,
     "metadata": {},
     "output_type": "execute_result"
    },
    {
     "data": {
      "image/png": "[encoded data removed]",
      "text/plain": [
       "<Figure size 1080x360 with 4 Axes>"
      ]
     },
     "metadata": {
      "needs_background": "light"
     },
     "output_type": "display_data"
    }
   ],
   "source": [
    "fig, ax = plt.subplots(1, 4, sharey='all', figsize=(15,5))\n",
    "sns.countplot(x='PhoneService', hue='Churn', data=cust_data, ax=ax[0])\n",
    "sns.countplot(x='MultipleLines', hue='Churn', data=cust_data, ax=ax[1])\n",
    "sns.countplot(x='InternetService', hue='Churn', data=cust_data, ax=ax[2])\n",
    "sns.countplot(x='OnlineSecurity', hue='Churn', data=cust_data, ax=ax[3])"
   ]
  },
  {
   "cell_type": "markdown",
   "metadata": {},
   "source": [
    "The following assumptions can be made from the plots above;\n",
    "\n",
    "- `PhoneService`- Customers who subscribed to phone service are more and also more likely to churn\n",
    "- `MultipleLines` - This plot shows no significant relationship with the churn rate, although customers with multiple lines are slightly more likely to churn than than the other categories.\n",
    "- `InternetService` - This plot shows that customers who uses Fiber optic internet service are very much likely to churn than customers who uses DSL or does not use Internet service. This is very significant as it may mean there's an issue with the Fiber optic internet service or that the service is over-priced thereby causing customer churn.\n",
    "- `OnlineSecurity` - This is also very interesting, as customers who do not have online security are very much likely to churn than others. It means the company needs to engage customers to use online security.\n",
    "\n",
    "The next set of categorical data we will be looking at are `OnlineBackup`, `DeviceProtection`, `TechSupport`,`StreamingTV`"
   ]
  },
  {
   "cell_type": "code",
   "execution_count": 19,
   "metadata": {},
   "outputs": [
    {
     "data": {
      "text/plain": [
       "<matplotlib.axes._subplots.AxesSubplot at 0x1f5d74e8948>"
      ]
     },
     "execution_count": 19,
     "metadata": {},
     "output_type": "execute_result"
    },
    {
     "data": {
      "image/png": "[encoded data removed]",
      "text/plain": [
       "<Figure size 1080x360 with 4 Axes>"
      ]
     },
     "metadata": {
      "needs_background": "light"
     },
     "output_type": "display_data"
    }
   ],
   "source": [
    "fig, ax = plt.subplots(1, 4, sharey='all', figsize=(15,5))\n",
    "sns.countplot(x='OnlineBackup', hue='Churn', data=cust_data, ax=ax[0])\n",
    "sns.countplot(x='DeviceProtection', hue='Churn', data=cust_data, ax=ax[1])\n",
    "sns.countplot(x='TechSupport', hue='Churn', data=cust_data, ax=ax[2])\n",
    "sns.countplot(x='StreamingTV', hue='Churn', data=cust_data, ax=ax[3])"
   ]
  },
  {
   "cell_type": "markdown",
   "metadata": {},
   "source": [
    "The figure above shows that customers with **NO** `OnlineBackup`, `DeviceProtection`, `TechSupport` are much more likely to churn. It means the Telco is deficient in making sure their customers have all these services which has led to a high rate of dissatisfaction  within customers thereby causing a high churn rate. The last plot `StreamingTV` shows no significant contribution to the churn rate, although customers who stream TV are slightly less likely to churn.\n",
    "\n",
    "Next we will look at the last set of categorical datas in our dataset; `StreamingMovies`, `Contract`, `PaperlessBilling`, `PaymentMethod`"
   ]
  },
  {
   "cell_type": "code",
   "execution_count": 20,
   "metadata": {},
   "outputs": [
    {
     "data": {
      "image/png": "[encoded data removed]",
      "text/plain": [
       "<Figure size 1080x360 with 4 Axes>"
      ]
     },
     "metadata": {
      "needs_background": "light"
     },
     "output_type": "display_data"
    }
   ],
   "source": [
    "fig, ax = plt.subplots(1, 4, sharey='all', figsize=(15,5))\n",
    "\n",
    "stream = sns.countplot(x='StreamingMovies', hue='Churn', data=cust_data, ax=ax[0])\n",
    "label = ['No', 'Yes', 'No internet service']\n",
    "stream.set_xticklabels(label, rotation=30)\n",
    "\n",
    "contract = sns.countplot(x='Contract', hue='Churn', data=cust_data, ax=ax[1])\n",
    "\n",
    "billing = sns.countplot(x='PaperlessBilling', hue='Churn', data=cust_data, ax=ax[2])\n",
    "\n",
    "payment = sns.countplot(x='PaymentMethod', hue='Churn', data=cust_data, ax=ax[3])\n",
    "\n",
    "labels = ['Electronic check', 'Mailed check', 'Bank transfer', 'Credit card']\n",
    "payment.set_xticklabels(labels, rotation=30);"
   ]
  },
  {
   "cell_type": "markdown",
   "metadata": {},
   "source": [
    "We can make the following deductions from the figure above;\n",
    "\n",
    "- `StreamingMovies` - This plot shows the same pattern as the `StreamingTV` plot because both requires internet use\n",
    "- `Contract` - The plot shows that customers with Month-to-month subscription are much more likely to churn than customers with One year and Two year contracts. This is not too surprising as customer with longer contract may find it more difficult to leave than customers with monthly subscription who can leave at the end of their subscription if they are dissatisfied.\n",
    "- `PaperlessBilling` - Customer with paperless billing are more likely to churn than those who don't use paperless billing.\n",
    "- `PaymentMethod` - It can be seen that customers who make payments via electronic check seems to have a very high churn rate than customers who use other forms of payment. This is expected as customers who uses an automatic mode of payment are less likely to churn than customer who will have to send in their payment check either by mail or electronically. So it will be advisable for the Telco to ensure that customer uses the automatic payment method.\n",
    "\n",
    "So far we have been looking at how the categorical data affect the churn rate. Next we will be looking at the numerical columns and visualizing them to see how they affect the churn rate. To do this we will be using a histogram plot to visualze how the `tenure` and `MonthlyCharges` relate with the churn rate.\n"
   ]
  },
  {
   "cell_type": "code",
   "execution_count": 21,
   "metadata": {
    "scrolled": true
   },
   "outputs": [
    {
     "data": {
      "image/png": "[encoded data removed]",
      "text/plain": [
       "<Figure size 1440x360 with 2 Axes>"
      ]
     },
     "metadata": {
      "needs_background": "light"
     },
     "output_type": "display_data"
    }
   ],
   "source": [
    "num_cols = ['tenure', 'MonthlyCharges']\n",
    "fig, ax = plt.subplots(1, 2, figsize=(20, 5))\n",
    "retained = cust_data[cust_data['Churn'] == 'No'][num_cols]\n",
    "churned = cust_data[cust_data['Churn'] == 'Yes'][num_cols]\n",
    "\n",
    "retained.hist(bins=20, color='blue', ax=ax)\n",
    "churned.hist(bins=20, color='red', ax=ax);"
   ]
  },
  {
   "cell_type": "markdown",
   "metadata": {},
   "source": [
    "From the `MonthlyCharges` histogram, customers who pay monthly charges of between 20-30usd are the most likely to be retained while majority of churned customers are within 70-100usd monthly charges. We will have to explore these more closely to check the services rendered to customer who pay between 70-100usd monthly to be able to fully understand why they tend to leave. From a glance at this histogram, we can conclude that customers who pay higher monthly charge are more likely to leave. It is recommended that the Telco should look to review their monthly charge to retain some of these customers.\n",
    "\n",
    "A look at the `tenure` histogram shows that customers who are more likely to churn have a tenure of between 1-7months. It seems customer who have stayed longer with the company are less likely to leave. So it will be advised that the Telco try to keep their new customer for a minimum period of 2 years to ensure they are less likely to leave."
   ]
  },
  {
   "cell_type": "markdown",
   "metadata": {},
   "source": [
    "## Data Processing and Cleaning\n",
    "\n",
    "Here we will be doing some data cleaning and processing to prepare our dataset for the prediction algorithm. The dataset given came cleaned and we do not have to perform many cleaning procedures on the data. For the purpose of this project, the `customerID` will not have any input to our prediction model, so we will be dropping that column."
   ]
  },
  {
   "cell_type": "code",
   "execution_count": 22,
   "metadata": {},
   "outputs": [],
   "source": [
    "#import needed libraries\n",
    "\n",
    "import sklearn\n",
    "from sklearn.preprocessing import LabelEncoder\n",
    "from sklearn.preprocessing import StandardScaler\n",
    "from sklearn.metrics import classification_report\n",
    "from sklearn.linear_model import LogisticRegression\n",
    "from sklearn.model_selection import train_test_split"
   ]
  },
  {
   "cell_type": "code",
   "execution_count": 23,
   "metadata": {},
   "outputs": [
    {
     "data": {
      "text/plain": [
       "(7043, 20)"
      ]
     },
     "execution_count": 23,
     "metadata": {},
     "output_type": "execute_result"
    }
   ],
   "source": [
    "#dropping unnecessary column\n",
    "\n",
    "cleaned_data = cust_data.drop('customerID', axis=1)\n",
    "\n",
    "cleaned_data.shape"
   ]
  },
  {
   "cell_type": "markdown",
   "metadata": {},
   "source": [
    "We can see that we now have 20 columns as opposed to the 21 columns in the original data. \n",
    "Next we will convert all the categorical columns to numeric because we can not do any calculation with strings. I will be using the pandas function 'get_dummies' to make the conversion. This function will split each columns according to the number of unique values in the column and create a column of these values in numerical values. For example the gender column will be splitted into gender_male and gender_Female."
   ]
  },
  {
   "cell_type": "code",
   "execution_count": 24,
   "metadata": {},
   "outputs": [],
   "source": [
    "#To convert all the categorical columns to numerical and creating a dummy\n",
    "\n",
    "cols = ['gender', 'Partner', 'Dependents', 'PhoneService', 'MultipleLines', 'InternetService',\n",
    "       'OnlineSecurity', 'OnlineBackup', 'DeviceProtection', 'TechSupport',\n",
    "       'StreamingTV', 'StreamingMovies', 'Contract', 'PaperlessBilling',\n",
    "       'PaymentMethod']\n",
    "num_data = pd.get_dummies(cleaned_data, prefix=None, prefix_sep='_', columns=cols, drop_first=False)"
   ]
  },
  {
   "cell_type": "code",
   "execution_count": 25,
   "metadata": {
    "scrolled": true
   },
   "outputs": [
    {
     "data": {
      "text/html": [
       "<div>\n",
       "<style scoped>\n",
       "    .dataframe tbody tr th:only-of-type {\n",
       "        vertical-align: middle;\n",
       "    }\n",
       "\n",
       "    .dataframe tbody tr th {\n",
       "        vertical-align: top;\n",
       "    }\n",
       "\n",
       "    .dataframe thead th {\n",
       "        text-align: right;\n",
       "    }\n",
       "</style>\n",
       "<table border=\"1\" class=\"dataframe\">\n",
       "  <thead>\n",
       "    <tr style=\"text-align: right;\">\n",
       "      <th></th>\n",
       "      <th>0</th>\n",
       "      <th>1</th>\n",
       "      <th>2</th>\n",
       "      <th>3</th>\n",
       "      <th>4</th>\n",
       "      <th>5</th>\n",
       "      <th>6</th>\n",
       "      <th>7</th>\n",
       "      <th>8</th>\n",
       "      <th>9</th>\n",
       "    </tr>\n",
       "  </thead>\n",
       "  <tbody>\n",
       "    <tr>\n",
       "      <td>SeniorCitizen</td>\n",
       "      <td>0</td>\n",
       "      <td>0</td>\n",
       "      <td>0</td>\n",
       "      <td>0</td>\n",
       "      <td>0</td>\n",
       "      <td>0</td>\n",
       "      <td>0</td>\n",
       "      <td>0</td>\n",
       "      <td>0</td>\n",
       "      <td>0</td>\n",
       "    </tr>\n",
       "    <tr>\n",
       "      <td>tenure</td>\n",
       "      <td>1</td>\n",
       "      <td>34</td>\n",
       "      <td>2</td>\n",
       "      <td>45</td>\n",
       "      <td>2</td>\n",
       "      <td>8</td>\n",
       "      <td>22</td>\n",
       "      <td>10</td>\n",
       "      <td>28</td>\n",
       "      <td>62</td>\n",
       "    </tr>\n",
       "    <tr>\n",
       "      <td>MonthlyCharges</td>\n",
       "      <td>29.85</td>\n",
       "      <td>56.95</td>\n",
       "      <td>53.85</td>\n",
       "      <td>42.3</td>\n",
       "      <td>70.7</td>\n",
       "      <td>99.65</td>\n",
       "      <td>89.1</td>\n",
       "      <td>29.75</td>\n",
       "      <td>104.8</td>\n",
       "      <td>56.15</td>\n",
       "    </tr>\n",
       "    <tr>\n",
       "      <td>TotalCharges</td>\n",
       "      <td>29.85</td>\n",
       "      <td>1889.5</td>\n",
       "      <td>108.15</td>\n",
       "      <td>1840.75</td>\n",
       "      <td>151.65</td>\n",
       "      <td>820.5</td>\n",
       "      <td>1949.4</td>\n",
       "      <td>301.9</td>\n",
       "      <td>3046.05</td>\n",
       "      <td>3487.95</td>\n",
       "    </tr>\n",
       "    <tr>\n",
       "      <td>Churn</td>\n",
       "      <td>No</td>\n",
       "      <td>No</td>\n",
       "      <td>Yes</td>\n",
       "      <td>No</td>\n",
       "      <td>Yes</td>\n",
       "      <td>Yes</td>\n",
       "      <td>No</td>\n",
       "      <td>No</td>\n",
       "      <td>Yes</td>\n",
       "      <td>No</td>\n",
       "    </tr>\n",
       "    <tr>\n",
       "      <td>gender_Female</td>\n",
       "      <td>1</td>\n",
       "      <td>0</td>\n",
       "      <td>0</td>\n",
       "      <td>0</td>\n",
       "      <td>1</td>\n",
       "      <td>1</td>\n",
       "      <td>0</td>\n",
       "      <td>1</td>\n",
       "      <td>1</td>\n",
       "      <td>0</td>\n",
       "    </tr>\n",
       "    <tr>\n",
       "      <td>gender_Male</td>\n",
       "      <td>0</td>\n",
       "      <td>1</td>\n",
       "      <td>1</td>\n",
       "      <td>1</td>\n",
       "      <td>0</td>\n",
       "      <td>0</td>\n",
       "      <td>1</td>\n",
       "      <td>0</td>\n",
       "      <td>0</td>\n",
       "      <td>1</td>\n",
       "    </tr>\n",
       "    <tr>\n",
       "      <td>Partner_No</td>\n",
       "      <td>0</td>\n",
       "      <td>1</td>\n",
       "      <td>1</td>\n",
       "      <td>1</td>\n",
       "      <td>1</td>\n",
       "      <td>1</td>\n",
       "      <td>1</td>\n",
       "      <td>1</td>\n",
       "      <td>0</td>\n",
       "      <td>1</td>\n",
       "    </tr>\n",
       "    <tr>\n",
       "      <td>Partner_Yes</td>\n",
       "      <td>1</td>\n",
       "      <td>0</td>\n",
       "      <td>0</td>\n",
       "      <td>0</td>\n",
       "      <td>0</td>\n",
       "      <td>0</td>\n",
       "      <td>0</td>\n",
       "      <td>0</td>\n",
       "      <td>1</td>\n",
       "      <td>0</td>\n",
       "    </tr>\n",
       "    <tr>\n",
       "      <td>Dependents_No</td>\n",
       "      <td>1</td>\n",
       "      <td>1</td>\n",
       "      <td>1</td>\n",
       "      <td>1</td>\n",
       "      <td>1</td>\n",
       "      <td>1</td>\n",
       "      <td>0</td>\n",
       "      <td>1</td>\n",
       "      <td>1</td>\n",
       "      <td>0</td>\n",
       "    </tr>\n",
       "    <tr>\n",
       "      <td>Dependents_Yes</td>\n",
       "      <td>0</td>\n",
       "      <td>0</td>\n",
       "      <td>0</td>\n",
       "      <td>0</td>\n",
       "      <td>0</td>\n",
       "      <td>0</td>\n",
       "      <td>1</td>\n",
       "      <td>0</td>\n",
       "      <td>0</td>\n",
       "      <td>1</td>\n",
       "    </tr>\n",
       "    <tr>\n",
       "      <td>PhoneService_No</td>\n",
       "      <td>1</td>\n",
       "      <td>0</td>\n",
       "      <td>0</td>\n",
       "      <td>1</td>\n",
       "      <td>0</td>\n",
       "      <td>0</td>\n",
       "      <td>0</td>\n",
       "      <td>1</td>\n",
       "      <td>0</td>\n",
       "      <td>0</td>\n",
       "    </tr>\n",
       "    <tr>\n",
       "      <td>PhoneService_Yes</td>\n",
       "      <td>0</td>\n",
       "      <td>1</td>\n",
       "      <td>1</td>\n",
       "      <td>0</td>\n",
       "      <td>1</td>\n",
       "      <td>1</td>\n",
       "      <td>1</td>\n",
       "      <td>0</td>\n",
       "      <td>1</td>\n",
       "      <td>1</td>\n",
       "    </tr>\n",
       "    <tr>\n",
       "      <td>MultipleLines_No</td>\n",
       "      <td>0</td>\n",
       "      <td>1</td>\n",
       "      <td>1</td>\n",
       "      <td>0</td>\n",
       "      <td>1</td>\n",
       "      <td>0</td>\n",
       "      <td>0</td>\n",
       "      <td>0</td>\n",
       "      <td>0</td>\n",
       "      <td>1</td>\n",
       "    </tr>\n",
       "    <tr>\n",
       "      <td>MultipleLines_No phone service</td>\n",
       "      <td>1</td>\n",
       "      <td>0</td>\n",
       "      <td>0</td>\n",
       "      <td>1</td>\n",
       "      <td>0</td>\n",
       "      <td>0</td>\n",
       "      <td>0</td>\n",
       "      <td>1</td>\n",
       "      <td>0</td>\n",
       "      <td>0</td>\n",
       "    </tr>\n",
       "    <tr>\n",
       "      <td>MultipleLines_Yes</td>\n",
       "      <td>0</td>\n",
       "      <td>0</td>\n",
       "      <td>0</td>\n",
       "      <td>0</td>\n",
       "      <td>0</td>\n",
       "      <td>1</td>\n",
       "      <td>1</td>\n",
       "      <td>0</td>\n",
       "      <td>1</td>\n",
       "      <td>0</td>\n",
       "    </tr>\n",
       "    <tr>\n",
       "      <td>InternetService_DSL</td>\n",
       "      <td>1</td>\n",
       "      <td>1</td>\n",
       "      <td>1</td>\n",
       "      <td>1</td>\n",
       "      <td>0</td>\n",
       "      <td>0</td>\n",
       "      <td>0</td>\n",
       "      <td>1</td>\n",
       "      <td>0</td>\n",
       "      <td>1</td>\n",
       "    </tr>\n",
       "    <tr>\n",
       "      <td>InternetService_Fiber optic</td>\n",
       "      <td>0</td>\n",
       "      <td>0</td>\n",
       "      <td>0</td>\n",
       "      <td>0</td>\n",
       "      <td>1</td>\n",
       "      <td>1</td>\n",
       "      <td>1</td>\n",
       "      <td>0</td>\n",
       "      <td>1</td>\n",
       "      <td>0</td>\n",
       "    </tr>\n",
       "    <tr>\n",
       "      <td>InternetService_No</td>\n",
       "      <td>0</td>\n",
       "      <td>0</td>\n",
       "      <td>0</td>\n",
       "      <td>0</td>\n",
       "      <td>0</td>\n",
       "      <td>0</td>\n",
       "      <td>0</td>\n",
       "      <td>0</td>\n",
       "      <td>0</td>\n",
       "      <td>0</td>\n",
       "    </tr>\n",
       "    <tr>\n",
       "      <td>OnlineSecurity_No</td>\n",
       "      <td>1</td>\n",
       "      <td>0</td>\n",
       "      <td>0</td>\n",
       "      <td>0</td>\n",
       "      <td>1</td>\n",
       "      <td>1</td>\n",
       "      <td>1</td>\n",
       "      <td>0</td>\n",
       "      <td>1</td>\n",
       "      <td>0</td>\n",
       "    </tr>\n",
       "    <tr>\n",
       "      <td>OnlineSecurity_No internet service</td>\n",
       "      <td>0</td>\n",
       "      <td>0</td>\n",
       "      <td>0</td>\n",
       "      <td>0</td>\n",
       "      <td>0</td>\n",
       "      <td>0</td>\n",
       "      <td>0</td>\n",
       "      <td>0</td>\n",
       "      <td>0</td>\n",
       "      <td>0</td>\n",
       "    </tr>\n",
       "    <tr>\n",
       "      <td>OnlineSecurity_Yes</td>\n",
       "      <td>0</td>\n",
       "      <td>1</td>\n",
       "      <td>1</td>\n",
       "      <td>1</td>\n",
       "      <td>0</td>\n",
       "      <td>0</td>\n",
       "      <td>0</td>\n",
       "      <td>1</td>\n",
       "      <td>0</td>\n",
       "      <td>1</td>\n",
       "    </tr>\n",
       "    <tr>\n",
       "      <td>OnlineBackup_No</td>\n",
       "      <td>0</td>\n",
       "      <td>1</td>\n",
       "      <td>0</td>\n",
       "      <td>1</td>\n",
       "      <td>1</td>\n",
       "      <td>1</td>\n",
       "      <td>0</td>\n",
       "      <td>1</td>\n",
       "      <td>1</td>\n",
       "      <td>0</td>\n",
       "    </tr>\n",
       "    <tr>\n",
       "      <td>OnlineBackup_No internet service</td>\n",
       "      <td>0</td>\n",
       "      <td>0</td>\n",
       "      <td>0</td>\n",
       "      <td>0</td>\n",
       "      <td>0</td>\n",
       "      <td>0</td>\n",
       "      <td>0</td>\n",
       "      <td>0</td>\n",
       "      <td>0</td>\n",
       "      <td>0</td>\n",
       "    </tr>\n",
       "    <tr>\n",
       "      <td>OnlineBackup_Yes</td>\n",
       "      <td>1</td>\n",
       "      <td>0</td>\n",
       "      <td>1</td>\n",
       "      <td>0</td>\n",
       "      <td>0</td>\n",
       "      <td>0</td>\n",
       "      <td>1</td>\n",
       "      <td>0</td>\n",
       "      <td>0</td>\n",
       "      <td>1</td>\n",
       "    </tr>\n",
       "    <tr>\n",
       "      <td>DeviceProtection_No</td>\n",
       "      <td>1</td>\n",
       "      <td>0</td>\n",
       "      <td>1</td>\n",
       "      <td>0</td>\n",
       "      <td>1</td>\n",
       "      <td>0</td>\n",
       "      <td>1</td>\n",
       "      <td>1</td>\n",
       "      <td>0</td>\n",
       "      <td>1</td>\n",
       "    </tr>\n",
       "    <tr>\n",
       "      <td>DeviceProtection_No internet service</td>\n",
       "      <td>0</td>\n",
       "      <td>0</td>\n",
       "      <td>0</td>\n",
       "      <td>0</td>\n",
       "      <td>0</td>\n",
       "      <td>0</td>\n",
       "      <td>0</td>\n",
       "      <td>0</td>\n",
       "      <td>0</td>\n",
       "      <td>0</td>\n",
       "    </tr>\n",
       "    <tr>\n",
       "      <td>DeviceProtection_Yes</td>\n",
       "      <td>0</td>\n",
       "      <td>1</td>\n",
       "      <td>0</td>\n",
       "      <td>1</td>\n",
       "      <td>0</td>\n",
       "      <td>1</td>\n",
       "      <td>0</td>\n",
       "      <td>0</td>\n",
       "      <td>1</td>\n",
       "      <td>0</td>\n",
       "    </tr>\n",
       "    <tr>\n",
       "      <td>TechSupport_No</td>\n",
       "      <td>1</td>\n",
       "      <td>1</td>\n",
       "      <td>1</td>\n",
       "      <td>0</td>\n",
       "      <td>1</td>\n",
       "      <td>1</td>\n",
       "      <td>1</td>\n",
       "      <td>1</td>\n",
       "      <td>0</td>\n",
       "      <td>1</td>\n",
       "    </tr>\n",
       "    <tr>\n",
       "      <td>TechSupport_No internet service</td>\n",
       "      <td>0</td>\n",
       "      <td>0</td>\n",
       "      <td>0</td>\n",
       "      <td>0</td>\n",
       "      <td>0</td>\n",
       "      <td>0</td>\n",
       "      <td>0</td>\n",
       "      <td>0</td>\n",
       "      <td>0</td>\n",
       "      <td>0</td>\n",
       "    </tr>\n",
       "    <tr>\n",
       "      <td>TechSupport_Yes</td>\n",
       "      <td>0</td>\n",
       "      <td>0</td>\n",
       "      <td>0</td>\n",
       "      <td>1</td>\n",
       "      <td>0</td>\n",
       "      <td>0</td>\n",
       "      <td>0</td>\n",
       "      <td>0</td>\n",
       "      <td>1</td>\n",
       "      <td>0</td>\n",
       "    </tr>\n",
       "    <tr>\n",
       "      <td>StreamingTV_No</td>\n",
       "      <td>1</td>\n",
       "      <td>1</td>\n",
       "      <td>1</td>\n",
       "      <td>1</td>\n",
       "      <td>1</td>\n",
       "      <td>0</td>\n",
       "      <td>0</td>\n",
       "      <td>1</td>\n",
       "      <td>0</td>\n",
       "      <td>1</td>\n",
       "    </tr>\n",
       "    <tr>\n",
       "      <td>StreamingTV_No internet service</td>\n",
       "      <td>0</td>\n",
       "      <td>0</td>\n",
       "      <td>0</td>\n",
       "      <td>0</td>\n",
       "      <td>0</td>\n",
       "      <td>0</td>\n",
       "      <td>0</td>\n",
       "      <td>0</td>\n",
       "      <td>0</td>\n",
       "      <td>0</td>\n",
       "    </tr>\n",
       "    <tr>\n",
       "      <td>StreamingTV_Yes</td>\n",
       "      <td>0</td>\n",
       "      <td>0</td>\n",
       "      <td>0</td>\n",
       "      <td>0</td>\n",
       "      <td>0</td>\n",
       "      <td>1</td>\n",
       "      <td>1</td>\n",
       "      <td>0</td>\n",
       "      <td>1</td>\n",
       "      <td>0</td>\n",
       "    </tr>\n",
       "    <tr>\n",
       "      <td>StreamingMovies_No</td>\n",
       "      <td>1</td>\n",
       "      <td>1</td>\n",
       "      <td>1</td>\n",
       "      <td>1</td>\n",
       "      <td>1</td>\n",
       "      <td>0</td>\n",
       "      <td>1</td>\n",
       "      <td>1</td>\n",
       "      <td>0</td>\n",
       "      <td>1</td>\n",
       "    </tr>\n",
       "    <tr>\n",
       "      <td>StreamingMovies_No internet service</td>\n",
       "      <td>0</td>\n",
       "      <td>0</td>\n",
       "      <td>0</td>\n",
       "      <td>0</td>\n",
       "      <td>0</td>\n",
       "      <td>0</td>\n",
       "      <td>0</td>\n",
       "      <td>0</td>\n",
       "      <td>0</td>\n",
       "      <td>0</td>\n",
       "    </tr>\n",
       "    <tr>\n",
       "      <td>StreamingMovies_Yes</td>\n",
       "      <td>0</td>\n",
       "      <td>0</td>\n",
       "      <td>0</td>\n",
       "      <td>0</td>\n",
       "      <td>0</td>\n",
       "      <td>1</td>\n",
       "      <td>0</td>\n",
       "      <td>0</td>\n",
       "      <td>1</td>\n",
       "      <td>0</td>\n",
       "    </tr>\n",
       "    <tr>\n",
       "      <td>Contract_Month-to-month</td>\n",
       "      <td>1</td>\n",
       "      <td>0</td>\n",
       "      <td>1</td>\n",
       "      <td>0</td>\n",
       "      <td>1</td>\n",
       "      <td>1</td>\n",
       "      <td>1</td>\n",
       "      <td>1</td>\n",
       "      <td>1</td>\n",
       "      <td>0</td>\n",
       "    </tr>\n",
       "    <tr>\n",
       "      <td>Contract_One year</td>\n",
       "      <td>0</td>\n",
       "      <td>1</td>\n",
       "      <td>0</td>\n",
       "      <td>1</td>\n",
       "      <td>0</td>\n",
       "      <td>0</td>\n",
       "      <td>0</td>\n",
       "      <td>0</td>\n",
       "      <td>0</td>\n",
       "      <td>1</td>\n",
       "    </tr>\n",
       "    <tr>\n",
       "      <td>Contract_Two year</td>\n",
       "      <td>0</td>\n",
       "      <td>0</td>\n",
       "      <td>0</td>\n",
       "      <td>0</td>\n",
       "      <td>0</td>\n",
       "      <td>0</td>\n",
       "      <td>0</td>\n",
       "      <td>0</td>\n",
       "      <td>0</td>\n",
       "      <td>0</td>\n",
       "    </tr>\n",
       "    <tr>\n",
       "      <td>PaperlessBilling_No</td>\n",
       "      <td>0</td>\n",
       "      <td>1</td>\n",
       "      <td>0</td>\n",
       "      <td>1</td>\n",
       "      <td>0</td>\n",
       "      <td>0</td>\n",
       "      <td>0</td>\n",
       "      <td>1</td>\n",
       "      <td>0</td>\n",
       "      <td>1</td>\n",
       "    </tr>\n",
       "    <tr>\n",
       "      <td>PaperlessBilling_Yes</td>\n",
       "      <td>1</td>\n",
       "      <td>0</td>\n",
       "      <td>1</td>\n",
       "      <td>0</td>\n",
       "      <td>1</td>\n",
       "      <td>1</td>\n",
       "      <td>1</td>\n",
       "      <td>0</td>\n",
       "      <td>1</td>\n",
       "      <td>0</td>\n",
       "    </tr>\n",
       "    <tr>\n",
       "      <td>PaymentMethod_Bank transfer (automatic)</td>\n",
       "      <td>0</td>\n",
       "      <td>0</td>\n",
       "      <td>0</td>\n",
       "      <td>1</td>\n",
       "      <td>0</td>\n",
       "      <td>0</td>\n",
       "      <td>0</td>\n",
       "      <td>0</td>\n",
       "      <td>0</td>\n",
       "      <td>1</td>\n",
       "    </tr>\n",
       "    <tr>\n",
       "      <td>PaymentMethod_Credit card (automatic)</td>\n",
       "      <td>0</td>\n",
       "      <td>0</td>\n",
       "      <td>0</td>\n",
       "      <td>0</td>\n",
       "      <td>0</td>\n",
       "      <td>0</td>\n",
       "      <td>1</td>\n",
       "      <td>0</td>\n",
       "      <td>0</td>\n",
       "      <td>0</td>\n",
       "    </tr>\n",
       "    <tr>\n",
       "      <td>PaymentMethod_Electronic check</td>\n",
       "      <td>1</td>\n",
       "      <td>0</td>\n",
       "      <td>0</td>\n",
       "      <td>0</td>\n",
       "      <td>1</td>\n",
       "      <td>1</td>\n",
       "      <td>0</td>\n",
       "      <td>0</td>\n",
       "      <td>1</td>\n",
       "      <td>0</td>\n",
       "    </tr>\n",
       "    <tr>\n",
       "      <td>PaymentMethod_Mailed check</td>\n",
       "      <td>0</td>\n",
       "      <td>1</td>\n",
       "      <td>1</td>\n",
       "      <td>0</td>\n",
       "      <td>0</td>\n",
       "      <td>0</td>\n",
       "      <td>0</td>\n",
       "      <td>1</td>\n",
       "      <td>0</td>\n",
       "      <td>0</td>\n",
       "    </tr>\n",
       "  </tbody>\n",
       "</table>\n",
       "</div>"
      ],
      "text/plain": [
       "                                             0       1       2        3  \\\n",
       "SeniorCitizen                                0       0       0        0   \n",
       "tenure                                       1      34       2       45   \n",
       "MonthlyCharges                           29.85   56.95   53.85     42.3   \n",
       "TotalCharges                             29.85  1889.5  108.15  1840.75   \n",
       "Churn                                       No      No     Yes       No   \n",
       "gender_Female                                1       0       0        0   \n",
       "gender_Male                                  0       1       1        1   \n",
       "Partner_No                                   0       1       1        1   \n",
       "Partner_Yes                                  1       0       0        0   \n",
       "Dependents_No                                1       1       1        1   \n",
       "Dependents_Yes                               0       0       0        0   \n",
       "PhoneService_No                              1       0       0        1   \n",
       "PhoneService_Yes                             0       1       1        0   \n",
       "MultipleLines_No                             0       1       1        0   \n",
       "MultipleLines_No phone service               1       0       0        1   \n",
       "MultipleLines_Yes                            0       0       0        0   \n",
       "InternetService_DSL                          1       1       1        1   \n",
       "InternetService_Fiber optic                  0       0       0        0   \n",
       "InternetService_No                           0       0       0        0   \n",
       "OnlineSecurity_No                            1       0       0        0   \n",
       "OnlineSecurity_No internet service           0       0       0        0   \n",
       "OnlineSecurity_Yes                           0       1       1        1   \n",
       "OnlineBackup_No                              0       1       0        1   \n",
       "OnlineBackup_No internet service             0       0       0        0   \n",
       "OnlineBackup_Yes                             1       0       1        0   \n",
       "DeviceProtection_No                          1       0       1        0   \n",
       "DeviceProtection_No internet service         0       0       0        0   \n",
       "DeviceProtection_Yes                         0       1       0        1   \n",
       "TechSupport_No                               1       1       1        0   \n",
       "TechSupport_No internet service              0       0       0        0   \n",
       "TechSupport_Yes                              0       0       0        1   \n",
       "StreamingTV_No                               1       1       1        1   \n",
       "StreamingTV_No internet service              0       0       0        0   \n",
       "StreamingTV_Yes                              0       0       0        0   \n",
       "StreamingMovies_No                           1       1       1        1   \n",
       "StreamingMovies_No internet service          0       0       0        0   \n",
       "StreamingMovies_Yes                          0       0       0        0   \n",
       "Contract_Month-to-month                      1       0       1        0   \n",
       "Contract_One year                            0       1       0        1   \n",
       "Contract_Two year                            0       0       0        0   \n",
       "PaperlessBilling_No                          0       1       0        1   \n",
       "PaperlessBilling_Yes                         1       0       1        0   \n",
       "PaymentMethod_Bank transfer (automatic)      0       0       0        1   \n",
       "PaymentMethod_Credit card (automatic)        0       0       0        0   \n",
       "PaymentMethod_Electronic check               1       0       0        0   \n",
       "PaymentMethod_Mailed check                   0       1       1        0   \n",
       "\n",
       "                                              4      5       6      7  \\\n",
       "SeniorCitizen                                 0      0       0      0   \n",
       "tenure                                        2      8      22     10   \n",
       "MonthlyCharges                             70.7  99.65    89.1  29.75   \n",
       "TotalCharges                             151.65  820.5  1949.4  301.9   \n",
       "Churn                                       Yes    Yes      No     No   \n",
       "gender_Female                                 1      1       0      1   \n",
       "gender_Male                                   0      0       1      0   \n",
       "Partner_No                                    1      1       1      1   \n",
       "Partner_Yes                                   0      0       0      0   \n",
       "Dependents_No                                 1      1       0      1   \n",
       "Dependents_Yes                                0      0       1      0   \n",
       "PhoneService_No                               0      0       0      1   \n",
       "PhoneService_Yes                              1      1       1      0   \n",
       "MultipleLines_No                              1      0       0      0   \n",
       "MultipleLines_No phone service                0      0       0      1   \n",
       "MultipleLines_Yes                             0      1       1      0   \n",
       "InternetService_DSL                           0      0       0      1   \n",
       "InternetService_Fiber optic                   1      1       1      0   \n",
       "InternetService_No                            0      0       0      0   \n",
       "OnlineSecurity_No                             1      1       1      0   \n",
       "OnlineSecurity_No internet service            0      0       0      0   \n",
       "OnlineSecurity_Yes                            0      0       0      1   \n",
       "OnlineBackup_No                               1      1       0      1   \n",
       "OnlineBackup_No internet service              0      0       0      0   \n",
       "OnlineBackup_Yes                              0      0       1      0   \n",
       "DeviceProtection_No                           1      0       1      1   \n",
       "DeviceProtection_No internet service          0      0       0      0   \n",
       "DeviceProtection_Yes                          0      1       0      0   \n",
       "TechSupport_No                                1      1       1      1   \n",
       "TechSupport_No internet service               0      0       0      0   \n",
       "TechSupport_Yes                               0      0       0      0   \n",
       "StreamingTV_No                                1      0       0      1   \n",
       "StreamingTV_No internet service               0      0       0      0   \n",
       "StreamingTV_Yes                               0      1       1      0   \n",
       "StreamingMovies_No                            1      0       1      1   \n",
       "StreamingMovies_No internet service           0      0       0      0   \n",
       "StreamingMovies_Yes                           0      1       0      0   \n",
       "Contract_Month-to-month                       1      1       1      1   \n",
       "Contract_One year                             0      0       0      0   \n",
       "Contract_Two year                             0      0       0      0   \n",
       "PaperlessBilling_No                           0      0       0      1   \n",
       "PaperlessBilling_Yes                          1      1       1      0   \n",
       "PaymentMethod_Bank transfer (automatic)       0      0       0      0   \n",
       "PaymentMethod_Credit card (automatic)         0      0       1      0   \n",
       "PaymentMethod_Electronic check                1      1       0      0   \n",
       "PaymentMethod_Mailed check                    0      0       0      1   \n",
       "\n",
       "                                               8        9  \n",
       "SeniorCitizen                                  0        0  \n",
       "tenure                                        28       62  \n",
       "MonthlyCharges                             104.8    56.15  \n",
       "TotalCharges                             3046.05  3487.95  \n",
       "Churn                                        Yes       No  \n",
       "gender_Female                                  1        0  \n",
       "gender_Male                                    0        1  \n",
       "Partner_No                                     0        1  \n",
       "Partner_Yes                                    1        0  \n",
       "Dependents_No                                  1        0  \n",
       "Dependents_Yes                                 0        1  \n",
       "PhoneService_No                                0        0  \n",
       "PhoneService_Yes                               1        1  \n",
       "MultipleLines_No                               0        1  \n",
       "MultipleLines_No phone service                 0        0  \n",
       "MultipleLines_Yes                              1        0  \n",
       "InternetService_DSL                            0        1  \n",
       "InternetService_Fiber optic                    1        0  \n",
       "InternetService_No                             0        0  \n",
       "OnlineSecurity_No                              1        0  \n",
       "OnlineSecurity_No internet service             0        0  \n",
       "OnlineSecurity_Yes                             0        1  \n",
       "OnlineBackup_No                                1        0  \n",
       "OnlineBackup_No internet service               0        0  \n",
       "OnlineBackup_Yes                               0        1  \n",
       "DeviceProtection_No                            0        1  \n",
       "DeviceProtection_No internet service           0        0  \n",
       "DeviceProtection_Yes                           1        0  \n",
       "TechSupport_No                                 0        1  \n",
       "TechSupport_No internet service                0        0  \n",
       "TechSupport_Yes                                1        0  \n",
       "StreamingTV_No                                 0        1  \n",
       "StreamingTV_No internet service                0        0  \n",
       "StreamingTV_Yes                                1        0  \n",
       "StreamingMovies_No                             0        1  \n",
       "StreamingMovies_No internet service            0        0  \n",
       "StreamingMovies_Yes                            1        0  \n",
       "Contract_Month-to-month                        1        0  \n",
       "Contract_One year                              0        1  \n",
       "Contract_Two year                              0        0  \n",
       "PaperlessBilling_No                            0        1  \n",
       "PaperlessBilling_Yes                           1        0  \n",
       "PaymentMethod_Bank transfer (automatic)        0        1  \n",
       "PaymentMethod_Credit card (automatic)          0        0  \n",
       "PaymentMethod_Electronic check                 1        0  \n",
       "PaymentMethod_Mailed check                     0        0  "
      ]
     },
     "execution_count": 25,
     "metadata": {},
     "output_type": "execute_result"
    }
   ],
   "source": [
    "num_data.head(10).T"
   ]
  },
  {
   "cell_type": "markdown",
   "metadata": {},
   "source": [
    "Next we will be splitting our dataset into a training(80%) and test(20%) set, but before that we will assign the independent variables to `X` while the dependent variable(churn) will be assigned to `Y`"
   ]
  },
  {
   "cell_type": "code",
   "execution_count": 26,
   "metadata": {},
   "outputs": [],
   "source": [
    "#Scale the cleaned data\n",
    "X = num_data.drop('Churn', axis = 1) \n",
    "Y = num_data['Churn']\n",
    "\n",
    "#Standardizing/scaling the features\n",
    "x = StandardScaler().fit_transform(X)"
   ]
  },
  {
   "cell_type": "code",
   "execution_count": 27,
   "metadata": {},
   "outputs": [],
   "source": [
    "#Split the data into 80% training and 20% testing\n",
    "\n",
    "x_train, x_test, y_train, y_test = train_test_split(x, Y, test_size=0.2, random_state=42)"
   ]
  },
  {
   "cell_type": "markdown",
   "metadata": {},
   "source": [
    "Next I will be applying the logistic regression model to the dataset and then train the dataset."
   ]
  },
  {
   "cell_type": "code",
   "execution_count": 28,
   "metadata": {},
   "outputs": [],
   "source": [
    "#Create the model\n",
    "model = LogisticRegression()"
   ]
  },
  {
   "cell_type": "code",
   "execution_count": 29,
   "metadata": {
    "scrolled": true
   },
   "outputs": [
    {
     "data": {
      "text/plain": [
       "LogisticRegression(C=1.0, class_weight=None, dual=False, fit_intercept=True,\n",
       "                   intercept_scaling=1, l1_ratio=None, max_iter=100,\n",
       "                   multi_class='warn', n_jobs=None, penalty='l2',\n",
       "                   random_state=None, solver='warn', tol=0.0001, verbose=0,\n",
       "                   warm_start=False)"
      ]
     },
     "execution_count": 29,
     "metadata": {},
     "output_type": "execute_result"
    }
   ],
   "source": [
    "#Train the model\n",
    "result = model.fit(x_train, y_train)\n",
    "result"
   ]
  },
  {
   "cell_type": "markdown",
   "metadata": {},
   "source": [
    "With the trained dataset above, we can now predict if a customer `churned` or not in our test dataset. The results are stored in `prediction_test`"
   ]
  },
  {
   "cell_type": "code",
   "execution_count": 30,
   "metadata": {},
   "outputs": [
    {
     "name": "stdout",
     "output_type": "stream",
     "text": [
      "['Yes' 'No' 'No' ... 'No' 'No' 'No']\n"
     ]
    }
   ],
   "source": [
    "prediction_test = model.predict(x_test)\n",
    "\n",
    "print(prediction_test)"
   ]
  },
  {
   "cell_type": "code",
   "execution_count": 31,
   "metadata": {},
   "outputs": [
    {
     "name": "stdout",
     "output_type": "stream",
     "text": [
      "              precision    recall  f1-score   support\n",
      "\n",
      "          No       0.86      0.90      0.88      1036\n",
      "         Yes       0.68      0.60      0.64       373\n",
      "\n",
      "    accuracy                           0.82      1409\n",
      "   macro avg       0.77      0.75      0.76      1409\n",
      "weighted avg       0.81      0.82      0.82      1409\n",
      "\n"
     ]
    }
   ],
   "source": [
    "#Check precision, recall, f1-score\n",
    "\n",
    "print( classification_report(y_test, prediction_test) )"
   ]
  },
  {
   "cell_type": "markdown",
   "metadata": {},
   "source": [
    "Above, we printed the classification report to measure the quality of predictions from our classification algorithm. We can see that the precision of our algorithm to predict the number of customers who was retained is `86%` while for customers who churned is `68%`. This shows that our algorithm is doing very well considering that earlier I stated that our algorithm should do better than the percentage of retained(73.5%) and churned(26.5) customers in the original dataset.\n",
    "\n",
    "Below we can see the overall accuracy of this prediction model which is `82%`. This is quite good especially when we look at the impact each independent variable has on the dependent variable; `Churn`"
   ]
  },
  {
   "cell_type": "code",
   "execution_count": 32,
   "metadata": {},
   "outputs": [
    {
     "name": "stdout",
     "output_type": "stream",
     "text": [
      "0.8204400283889283\n"
     ]
    }
   ],
   "source": [
    "from sklearn import metrics\n",
    "\n",
    "# Print the prediction accuracy\n",
    "\n",
    "print (metrics.accuracy_score(y_test, prediction_test))"
   ]
  },
  {
   "cell_type": "markdown",
   "metadata": {},
   "source": [
    "So with the final objective to reduce customers who churn and recommend the right preventive actions to the Telco, let us look at the influence of each independent variable on the prediction outcome. To do this, we set the model coefficients to zero and look at the weight of each variable."
   ]
  },
  {
   "cell_type": "code",
   "execution_count": 33,
   "metadata": {},
   "outputs": [
    {
     "data": {
      "text/plain": [
       "TotalCharges                               0.647502\n",
       "InternetService_Fiber optic                0.349074\n",
       "Contract_Month-to-month                    0.308914\n",
       "StreamingMovies_Yes                        0.159128\n",
       "StreamingTV_Yes                            0.134442\n",
       "OnlineSecurity_No                          0.119105\n",
       "PaymentMethod_Electronic check             0.118934\n",
       "TechSupport_No                             0.100588\n",
       "MultipleLines_Yes                          0.086954\n",
       "PaperlessBilling_Yes                       0.081802\n",
       "OnlineBackup_No                            0.060606\n",
       "SeniorCitizen                              0.058851\n",
       "DeviceProtection_Yes                       0.055825\n",
       "Dependents_No                              0.036481\n",
       "DeviceProtection_No                        0.024361\n",
       "OnlineBackup_Yes                           0.017957\n",
       "Partner_Yes                                0.013813\n",
       "gender_Female                              0.012777\n",
       "PhoneService_No                            0.002507\n",
       "MultipleLines_No phone service             0.002507\n",
       "PhoneService_Yes                          -0.002507\n",
       "Contract_One year                         -0.012608\n",
       "gender_Male                               -0.012777\n",
       "Partner_No                                -0.013813\n",
       "TechSupport_Yes                           -0.025737\n",
       "PaymentMethod_Bank transfer (automatic)   -0.029181\n",
       "Dependents_Yes                            -0.036481\n",
       "PaymentMethod_Mailed check                -0.042150\n",
       "OnlineSecurity_Yes                        -0.046314\n",
       "StreamingTV_No                            -0.054708\n",
       "PaymentMethod_Credit card (automatic)     -0.064113\n",
       "StreamingMovies_No                        -0.079622\n",
       "PaperlessBilling_No                       -0.081802\n",
       "MultipleLines_No                          -0.087428\n",
       "InternetService_No                        -0.093714\n",
       "StreamingMovies_No internet service       -0.093714\n",
       "StreamingTV_No internet service           -0.093714\n",
       "TechSupport_No internet service           -0.093714\n",
       "DeviceProtection_No internet service      -0.093714\n",
       "OnlineSecurity_No internet service        -0.093714\n",
       "OnlineBackup_No internet service          -0.093714\n",
       "InternetService_DSL                       -0.283499\n",
       "Contract_Two year                         -0.347495\n",
       "MonthlyCharges                            -0.687963\n",
       "tenure                                    -1.352490\n",
       "dtype: float64"
      ]
     },
     "execution_count": 33,
     "metadata": {},
     "output_type": "execute_result"
    }
   ],
   "source": [
    "# To get the weights of all the variables\n",
    "\n",
    "weights = pd.Series(model.coef_[0], index=X.columns.values)\n",
    "weights.sort_values(ascending = False)"
   ]
  },
  {
   "cell_type": "markdown",
   "metadata": {},
   "source": [
    "    We can observe that some variables has a positive relationship to our predicted variable while some have a negative relation. The positive relationship to churn means that this variable increase the probability of a customer to churn while a negative relation means the customer is a lot less likely to churn. Looking at the result above, we can see that customers with fiber optic internet service and month-to-month contract are a lot more likely to churn. This is interesting as it will be expected that customers who use fiber optic internet which is supposed to be very fast will be less likely to churn. We will have to look deeper into this to get some context into the data. "
   ]
  },
  {
   "cell_type": "code",
   "execution_count": null,
   "metadata": {},
   "outputs": [],
   "source": []
  }
 ],
 "metadata": {
  "kernelspec": {
   "display_name": "Python 3",
   "language": "python",
   "name": "python3"
  },
  "language_info": {
   "codemirror_mode": {
    "name": "ipython",
    "version": 3
   },
   "file_extension": ".py",
   "mimetype": "text/x-python",
   "name": "python",
   "nbconvert_exporter": "python",
   "pygments_lexer": "ipython3",
   "version": "3.7.4"
  }
 },
 "nbformat": 4,
 "nbformat_minor": 2
}
